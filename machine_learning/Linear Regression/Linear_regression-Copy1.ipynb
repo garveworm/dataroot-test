{
 "cells": [
  {
   "cell_type": "markdown",
   "metadata": {
    "collapsed": true
   },
   "source": [
    "## Linear regression"
   ]
  },
  {
   "cell_type": "code",
   "execution_count": 118,
   "metadata": {
    "collapsed": true
   },
   "outputs": [],
   "source": [
    "import numpy as np\n",
    "\n",
    "%matplotlib inline\n",
    "from mpl_toolkits import mplot3d\n",
    "import numpy as np\n",
    "import matplotlib.pyplot as plt\n",
    "from math import sqrt"
   ]
  },
  {
   "cell_type": "code",
   "execution_count": 119,
   "metadata": {},
   "outputs": [],
   "source": [
    "def linear_regression():\n",
    "    # Step # 1 - Extract data\n",
    "    points = np.genfromtxt('data.csv', delimiter=',')\n",
    "    \n",
    "    predictions = []\n",
    "    b0, b1 = coefficients(points)\n",
    "    for row in points:\n",
    "        y_hat = b0 + b1 * row[0]\n",
    "        predictions.append(y_hat)\n",
    "    return predictions\n",
    "\n",
    "\n",
    "def variance(mean, values):\n",
    "    return sum([(x - mean) ** 2 for x in values])\n",
    "\n",
    "\n",
    "def covariance(x, mean_x, y, mean_y):\n",
    "    covar = 0.0\n",
    "    for i in range(len(x)):\n",
    "        covar += (x[i] - mean_x) * (y[i] - mean_y)\n",
    "    return covar\n",
    "\n",
    "\n",
    "def coefficients(dataset):\n",
    "    var_x = [row[0] for row in dataset]\n",
    "    var_y = [row[1] for row in dataset]\n",
    "    mean_x, y_mean = np.mean(var_x), np.mean(var_y)\n",
    "    b1 = covariance(var_x, mean_x, var_y, mean_y) / variance(mean_x, var_x)\n",
    "    b0 = mean_y - b1 * mean_x\n",
    "    return [b0, b1]\n",
    "\n",
    "\n",
    "def rmse_metric(actual, predicted):\n",
    "    sum_error = 0.0\n",
    "    for i in range(len(actual)):\n",
    "        prediction_error = predicted[i] - actual[i]\n",
    "        sum_error += (prediction_error ** 2)\n",
    "    mean_error = sum_error / float(len(actual))\n",
    "    return sqrt(mean_error)"
   ]
  },
  {
   "cell_type": "markdown",
   "metadata": {},
   "source": [
    "## Plot Cost funstion"
   ]
  },
  {
   "cell_type": "markdown",
   "metadata": {},
   "source": [
    "## Plot data and learned function"
   ]
  },
  {
   "cell_type": "code",
   "execution_count": 124,
   "metadata": {},
   "outputs": [
    {
     "name": "stdout",
     "output_type": "stream",
     "text": [
      "Root mean squared error is 10.50\n"
     ]
    },
    {
     "data": {
      "image/png": "[encoded data removed]",
      "text/plain": [
       "<matplotlib.figure.Figure at 0x7f5030314eb8>"
      ]
     },
     "metadata": {},
     "output_type": "display_data"
    }
   ],
   "source": [
    "points = np.genfromtxt('data.csv', delimiter=',')\n",
    "X = points[:, 0]\n",
    "Y = points[:, 1]\n",
    "\n",
    "plt.xlim(0, 80)\n",
    "plt.ylim(0, 150)\n",
    "plt.scatter(X, Y)\n",
    "\n",
    "params = np.linspace(0, 150, 10)\n",
    "\n",
    "predictions = linear_regression()\n",
    "print('Root mean squared error is {:.2f}'.format(rmse_metric(Y, predictions)))\n",
    "plt.plot(X, predictions, 'r')\n",
    "\n",
    "plt.show()"
   ]
  }
 ],
 "metadata": {
  "kernelspec": {
   "display_name": "Python 3",
   "language": "python",
   "name": "python3"
  },
  "language_info": {
   "codemirror_mode": {
    "name": "ipython",
    "version": 3
   },
   "file_extension": ".py",
   "mimetype": "text/x-python",
   "name": "python",
   "nbconvert_exporter": "python",
   "pygments_lexer": "ipython3",
   "version": "3.6.3"
  }
 },
 "nbformat": 4,
 "nbformat_minor": 2
}
